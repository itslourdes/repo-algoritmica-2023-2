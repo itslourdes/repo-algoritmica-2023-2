{
  "nbformat": 4,
  "nbformat_minor": 0,
  "metadata": {
    "colab": {
      "provenance": [],
      "authorship_tag": "ABX9TyPGQTgGiX5ZHHVoyTFBmwUS",
      "include_colab_link": true
    },
    "kernelspec": {
      "name": "python3",
      "display_name": "Python 3"
    },
    "language_info": {
      "name": "python"
    }
  },
  "cells": [
    {
      "cell_type": "markdown",
      "metadata": {
        "id": "view-in-github",
        "colab_type": "text"
      },
      "source": [
        "<a href=\"https://colab.research.google.com/github/itslourdes/repo-algoritmica-2023-2/blob/main/AlgoritmoPrim.ipynb\" target=\"_parent\"><img src=\"https://colab.research.google.com/assets/colab-badge.svg\" alt=\"Open In Colab\"/></a>"
      ]
    },
    {
      "cell_type": "code",
      "execution_count": null,
      "metadata": {
        "id": "_gVCE1Yvtbty"
      },
      "outputs": [],
      "source": [
        "\"\"\"\n",
        "Este archivo es la implementación del algortimo de kruskal y funciona bajo los siguientes\n",
        "parámetros:\n",
        "- Una lista de Nodos ['a', 'b', 'c' ...]\n",
        "- Una lista de tuplas que representan aristas [('a', 'd', 5), (inicio, fin,  peso)]\n",
        "\"\"\"\n",
        "class Kruskal:\n",
        "\n",
        "    def __init__(self) -> None:\n",
        "        self.nodes = {}\n",
        "        self.edges = []\n",
        "        self.met = []\n",
        "        self._weight = 2\n",
        "        self._origin = 0\n",
        "        self.destination = 1\n",
        "        self.level = {}\n",
        "\n",
        "    def sort_edges(self, edges):\n",
        "        # for index in range(0, len(edges) - 1):\n",
        "        #     aux = edges[index]\n",
        "        #     if edges[index + 1][2] < edges[index][2]:\n",
        "        #         edges[index] = edges[index + 1]\n",
        "        #         edges[index + 1] = aux\n",
        "        # return edges\n",
        "        return sorted(edges, key=lambda edge: edge[self._weight])\n",
        "\n",
        "    def initialize_data(self, node):\n",
        "        self.nodes[node] = node\n",
        "        self.level[node] = 0\n",
        "\n",
        "    def find_root(self, node):\n",
        "        # Buscamos el nodo raiz de la arista, si el valor no es el mismo\n",
        "        # buscamos sobre el padre\n",
        "        if self.nodes[node] != node:\n",
        "            self.nodes[node] = self.find_root(self.nodes[node])\n",
        "            # Acá hacemos recursivo el método para encontrar el nodo de nivel 0\n",
        "        return self.nodes[node]\n",
        "\n",
        "    def check_union(self, origin, destination):\n",
        "        # 1er paso: Encontrar los nodos raíz de cada uno\n",
        "        origin_root = self.find_root(origin)\n",
        "        destination_root = self.find_root(destination)\n",
        "        # 2do paso: Avanzar si y solo si los nodos raiz son difrentes\n",
        "        if origin_root != destination_root:\n",
        "            # Tratamos de guardar siempre el de menor nivel relacionado\n",
        "            # a uno de mayor\n",
        "            if self.level[origin_root] > self.level[destination_root]:\n",
        "                self.nodes[destination_root] = origin_root\n",
        "            else:\n",
        "                self.nodes[origin_root] = destination_root\n",
        "                # Si los niveles son iguales, se cambia el nivel del último nodo guardado\n",
        "                if self.level[origin_root] == self.level[destination_root]:\n",
        "                    self.level[destination_root] += 1\n",
        "\n",
        "    def apply_kruskal(self, nodes, edges):\n",
        "        # Primero ingresar los nodos para formar el nivel\n",
        "        for node in nodes:\n",
        "            self.initialize_data(node)\n",
        "        # Ordenamos las aristas de menor a mayor peso\n",
        "        sorted_edges = self.sort_edges(edges)\n",
        "        # Una vez ordenado, arista por arista verifico la union\n",
        "        for edge in sorted_edges:\n",
        "            # Obtener los valores de la tupla\n",
        "            origin, destination, weight = edge\n",
        "            # Aquí viene la lógica del pseudo código\n",
        "            if self.find_root(origin) != self.find_root(destination):\n",
        "                self.check_union(origin, destination)\n",
        "                self.met.append(edge)\n",
        "        return self.met"
      ]
    },
    {
      "cell_type": "code",
      "source": [
        "from kruskal import Kruskal\n",
        "\n",
        "\n",
        "if __name__ == '__main__':\n",
        "    kruskal = Kruskal()\n",
        "    nodes = ['a', 'b', 'c', 'd', 'e', 'f', 'g']\n",
        "    edges = [\n",
        "        ('a', 'b', 7),\n",
        "        ('b', 'c', 8),\n",
        "        ('c', 'e', 5),\n",
        "        ('e', 'g', 9),\n",
        "        ('g', 'f', 11),\n",
        "        ('f', 'e', 8),\n",
        "        ('d', 'f', 6),\n",
        "        ('d', 'e', 15),\n",
        "        ('d', 'a', 5),\n",
        "        ('d', 'b', 9),\n",
        "        ('b', 'e', 7)\n",
        "    ]\n",
        "    met = kruskal.apply_kruskal(nodes, edges)\n",
        "    print(met)"
      ],
      "metadata": {
        "id": "bFf5TA8kuFnz"
      },
      "execution_count": null,
      "outputs": []
    }
  ]
}