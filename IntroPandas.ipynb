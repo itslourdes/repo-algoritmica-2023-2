{
  "nbformat": 4,
  "nbformat_minor": 0,
  "metadata": {
    "colab": {
      "provenance": [],
      "authorship_tag": "ABX9TyM9JImXf4hjuco9ePeN4Vc1",
      "include_colab_link": true
    },
    "kernelspec": {
      "name": "python3",
      "display_name": "Python 3"
    },
    "language_info": {
      "name": "python"
    }
  },
  "cells": [
    {
      "cell_type": "markdown",
      "metadata": {
        "id": "view-in-github",
        "colab_type": "text"
      },
      "source": [
        "<a href=\"https://colab.research.google.com/github/itslourdes/repo-algoritmica-2023-2/blob/dev/IntroPandas.ipynb\" target=\"_parent\"><img src=\"https://colab.research.google.com/assets/colab-badge.svg\" alt=\"Open In Colab\"/></a>"
      ]
    },
    {
      "cell_type": "markdown",
      "source": [],
      "metadata": {
        "id": "qGq25QriE1fr"
      }
    },
    {
      "cell_type": "code",
      "source": [
        "import pandas as pd\n",
        "import matplotlib.pyplot as plt"
      ],
      "metadata": {
        "id": "a-LwCDewE6WZ"
      },
      "execution_count": null,
      "outputs": []
    },
    {
      "cell_type": "markdown",
      "source": [
        "\n",
        "#APUNTES DE ALGORITMICA AVANZADA\n",
        "```\n",
        "# Tiene formato de código\n",
        "```\n",
        "\n"
      ],
      "metadata": {
        "id": "eOdqLp1ZBMwB"
      }
    },
    {
      "cell_type": "markdown",
      "source": [
        "### Convertir texto a valores numéricos\n"
      ],
      "metadata": {
        "id": "APMGVYAFBfmy"
      }
    },
    {
      "cell_type": "markdown",
      "source": [
        "Ideal es trabajar con 10 valores unicos ya que si trabajamos con +10 datos se torna complejo el manejo.\n",
        "\n",
        "Para esto existe otra función.\n",
        "\n",
        "la tecnica para utilizar es la siguiente:\n",
        "#"
      ],
      "metadata": {
        "id": "Kuxs_Z4GCOpT"
      }
    },
    {
      "cell_type": "code",
      "execution_count": null,
      "metadata": {
        "id": "f8k7YXhfBFAW"
      },
      "outputs": [],
      "source": [
        "#\n",
        "df.type.unique()\n",
        "# A df se le asignan los siguiente valores a las columnas que tienen texto\n",
        "#si llamo con la siguiente\n",
        "df.type = df.type.map({'MOVIE': 1, 'SHOW': 2})\n",
        "\n",
        "#aquí utilizamos la función 'describe()' para poder visualizar el cambio\n",
        "df.describe() #esto debe mostrar el cambio\n",
        "\n",
        "\n"
      ]
    },
    {
      "cell_type": "markdown",
      "source": [
        "###Análisis de correlación"
      ],
      "metadata": {
        "id": "Ix3ePa9FC9v8"
      }
    },
    {
      "cell_type": "code",
      "source": [
        "data_x = df.drop(['id', 'title','release_year', 'age_certification', 'genres', 'production_countries', 'imdb_id', 'tmdb_popularity'], axis='columns')"
      ],
      "metadata": {
        "id": "tIKTQZHjDA_6"
      },
      "execution_count": null,
      "outputs": []
    },
    {
      "cell_type": "markdown",
      "source": [
        "**Función .corr()**\n",
        "Esta función trabaja con datos numericos\n",
        "\n",
        "Para hacer un analisis de correlación\n",
        "\n",
        "Este analisis muestra la afinidad de los valores, se muestran 1 en la diagonal principal porque\n",
        "\n",
        "Mientras mas cercano sea el valor de un dato a '1' tiene mayor correlacion, trabajan de manera más eficiente."
      ],
      "metadata": {
        "id": "ZbSowx2qDtnb"
      }
    },
    {
      "cell_type": "code",
      "source": [
        "data_x.describe()"
      ],
      "metadata": {
        "id": "qIlqyZZsDmvc"
      },
      "execution_count": null,
      "outputs": []
    },
    {
      "cell_type": "code",
      "source": [],
      "metadata": {
        "id": "dE2zdvqmNSPs"
      },
      "execution_count": null,
      "outputs": []
    },
    {
      "cell_type": "markdown",
      "source": [
        "background_gradient -> utilizar para añadir color al análisis e correlación e identificar los valores que se acercan al 100%\n",
        "\n",
        "Esa linea deberia de mostrarnos una tablita con colores"
      ],
      "metadata": {
        "id": "HhFYjxSbDBLL"
      }
    },
    {
      "cell_type": "code",
      "source": [
        "corr = round(data_x.corr(), 3)\n",
        "corr.style.background_gradient()"
      ],
      "metadata": {
        "id": "3UbqObWJFF8Z"
      },
      "execution_count": null,
      "outputs": []
    },
    {
      "cell_type": "markdown",
      "source": [
        "pip install matplotlib, para instalar en caso de"
      ],
      "metadata": {
        "id": "Kj0QCNpiFb7w"
      }
    },
    {
      "cell_type": "code",
      "source": [
        "describe() -> ideal para verificar que el dataset se encuentra preparado para el análisis\n",
        "esta función te muestra las columnas con valores válidos\n",
        "todas las columnas tienen datos, no cero\n",
        "el conteo debe ser el mismo para todas las columnas\n"
      ],
      "metadata": {
        "id": "Zo3VJLnCVU7T"
      },
      "execution_count": null,
      "outputs": []
    }
  ]
}